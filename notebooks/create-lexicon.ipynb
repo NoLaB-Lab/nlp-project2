{
 "cells": [
  {
   "cell_type": "markdown",
   "id": "03434f45-bbdf-4637-b2be-accc02c1dbe6",
   "metadata": {},
   "source": [
    "### Date updated\n",
    "2024-01-11\n",
    "\n",
    "### Authors\n",
    "Reshama S\n",
    "\n",
    "### Instructions for Lexicon\n"
   ]
  },
  {
   "cell_type": "markdown",
   "id": "3923bce6-57bf-45e3-a9eb-a568c113a2fe",
   "metadata": {},
   "source": [
    "In the context of the code snippet you provided, “D”, “N”, “RC”, “T”, and “V” are abbreviations for the following parts of speech:\n",
    "\n",
    "- “D”: determiner\n",
    "- “N”: noun\n",
    "- “RC”: relative clause\n",
    "- “T”: verb (transitive)\n",
    "- “V”: verb (intransitive)\n",
    "\n",
    "These abbreviations are used to label each word in the sentence according to its part of speech. The enumerate() function is used to iterate over these labels and assign them to each word in the sentence."
   ]
  },
  {
   "cell_type": "markdown",
   "id": "0d7c27d8-578f-49c3-8149-db6c3238b43a",
   "metadata": {},
   "source": [
    "### Create a test lexicon"
   ]
  },
  {
   "cell_type": "code",
   "execution_count": 14,
   "id": "23d2c5d1-e714-4ea4-ab54-8863f6143e63",
   "metadata": {},
   "outputs": [
    {
     "name": "stdout",
     "output_type": "stream",
     "text": [
      "<class 'dict'>\n",
      "{'I': {'label': [{'0': 'D'}], 'expected': [{'0': 'D'}], 'expect': [{}], 'agree': ''}, 'a': {'label': [{'0': 'D'}], 'expected': [{'0': 'D'}], 'expect': [{'0': 'N'}], 'agree': ''}, 'three': {'label': [{'0': 'D'}], 'expected': [{'0': 'D'}], 'expect': [{'0': 'N'}], 'agree': ''}, 'who': {'label': [{'0': 'RC'}], 'expected': [{}], 'expect': [{'0': 'T'}], 'agree': ''}, 'people': {'label': [{'0': 'N'}], 'expected': [{'0': 'N'}], 'expect': [{}], 'agree': ''}, 'picnic': {'label': [{'0': 'N'}], 'expected': [{'0': 'N'}], 'expect': [{}], 'agree': ''}, 'are': {'label': [{'0': 'T'}], 'expected': [{'0': 'T'}], 'expect': [{'0': 'V'}], 'agree': ''}, 'see': {'label': [{'0': 'T', '1': 'V'}], 'expected': [{'0': 'T'}], 'expect': [{'0': 'D', '1': 'D'}], 'agree': ''}, 'having': {'label': [{'0': 'V'}], 'expected': [{'0': 'V'}], 'expect': [{'0': 'D', '1': 'D'}], 'agree': ''}, 'look_like': {'label': [{'0': 'T', '1': 'V'}], 'expected': [{'0': 'T'}], 'expect': [{'0': 'D', '1': 'T'}], 'agree': ''}, 'ROOT': {'label': [{'0': 'ROOT'}], 'expected': [{}], 'expect': [{'0': 'T'}], 'agree': ''}}\n"
     ]
    }
   ],
   "source": [
    "test_sentence = \"I see three people who look like they are having a picnic.\"\n",
    "\n",
    "test_json = {\n",
    "    \"I\": {\"label\": [{\"0\":\"D\"}], \"expected\": [{\"0\":\"D\"}], \"expect\": [{}], \"agree\": \"\"},\n",
    "    \"a\": {\"label\": [{\"0\":\"D\"}], \"expected\": [{\"0\":\"D\"}], \"expect\": [{\"0\":\"N\"}], \"agree\": \"\"},\n",
    "    \"three\": {\"label\": [{\"0\":\"D\"}], \"expected\": [{\"0\":\"D\"}], \"expect\": [{\"0\":\"N\"}], \"agree\": \"\"},\n",
    "    \"who\": {\"label\": [{\"0\":\"RC\"}], \"expected\": [{}], \"expect\": [{\"0\":\"T\"}], \"agree\": \"\"},\n",
    "    \"people\": {\"label\": [{\"0\":\"N\"}], \"expected\": [{\"0\":\"N\"}], \"expect\": [{}], \"agree\": \"\"},\n",
    "    \"picnic\": {\"label\": [{\"0\":\"N\"}], \"expected\": [{\"0\":\"N\"}], \"expect\": [{}], \"agree\": \"\"},\n",
    "    \"are\": {\"label\": [{\"0\":\"T\"}], \"expected\": [{\"0\":\"T\"}], \"expect\": [{\"0\":\"V\"}], \"agree\": \"\"},\n",
    "    \"see\": {\"label\": [{\"0\":\"T\",\"1\":\"V\"}], \"expected\": [{\"0\":\"T\"}], \"expect\": [{\"0\":\"D\", \"1\":\"D\"}], \"agree\": \"\"},\n",
    "    \"having\": {\"label\": [{\"0\":\"V\"}], \"expected\": [{\"0\":\"V\"}], \"expect\": [{\"0\":\"D\", \"1\":\"D\"}], \"agree\": \"\"},\n",
    "    \"look_like\": {\"label\": [{\"0\":\"T\",\"1\":\"V\"}], \"expected\": [{\"0\":\"T\"}], \"expect\": [{\"0\":\"D\",\"1\":\"T\"}], \"agree\": \"\"},\n",
    "    \"ROOT\": {\"label\": [{\"0\":\"ROOT\"}], \"expected\": [{}], \"expect\": [{\"0\":\"T\"}], \"agree\":\"\"}\n",
    "}\n",
    "\n",
    "print(type(test_json))\n",
    "print(test_json)\n",
    "\n",
    "import json\n",
    "\n",
    "with open('../lexicon/test_pre.json', 'w') as fp:\n",
    "    json.dump(test_json, fp)\n",
    "    "
   ]
  },
  {
   "cell_type": "code",
   "execution_count": 7,
   "id": "03b54b1d-5f22-4293-9fd6-2dcb1eb9c80b",
   "metadata": {},
   "outputs": [
    {
     "name": "stdout",
     "output_type": "stream",
     "text": [
      "{'I': {'label': [{'0': 'PRON'}], 'expected': [{'0': 'PRON'}], 'expect': [{'0': 'VERB'}], 'agree': ''}, 'see': {'label': [{'0': 'VERB'}], 'expected': [{'0': 'VERB'}], 'expect': [{}], 'agree': ''}, 'three': {'label': [{'0': 'NUM'}], 'expected': [{'0': 'NUM'}], 'expect': [{'0': 'NOUN'}], 'agree': ''}, 'people': {'label': [{'0': 'NOUN'}], 'expected': [{'0': 'NOUN'}], 'expect': [{'0': 'VERB'}], 'agree': ''}, 'who': {'label': [{'0': 'PRON'}], 'expected': [{'0': 'PRON'}], 'expect': [{'0': 'VERB'}], 'agree': ''}, 'look': {'label': [{'0': 'VERB'}], 'expected': [{'0': 'VERB'}], 'expect': [{'0': 'NOUN'}], 'agree': ''}, 'like': {'label': [{'0': 'SCONJ'}], 'expected': [{'0': 'SCONJ'}], 'expect': [{'0': 'VERB'}], 'agree': ''}, 'they': {'label': [{'0': 'PRON'}], 'expected': [{'0': 'PRON'}], 'expect': [{'0': 'VERB'}], 'agree': ''}, 'are': {'label': [{'0': 'AUX'}], 'expected': [{'0': 'AUX'}], 'expect': [{'0': 'VERB'}], 'agree': ''}, 'having': {'label': [{'0': 'VERB'}], 'expected': [{'0': 'VERB'}], 'expect': [{'0': 'VERB'}], 'agree': ''}, 'a': {'label': [{'0': 'DET'}], 'expected': [{'0': 'DET'}], 'expect': [{'0': 'NOUN'}], 'agree': ''}, 'picnic': {'label': [{'0': 'NOUN'}], 'expected': [{'0': 'NOUN'}], 'expect': [{'0': 'VERB'}], 'agree': ''}, '.': {'label': [{'0': 'PUNCT'}], 'expected': [{'0': 'PUNCT'}], 'expect': [{'0': 'VERB'}], 'agree': ''}, 'ROOT': {'label': [{'0': 'ROOT'}], 'expected': [{}], 'expect': [{'0': 'T'}], 'agree': ''}}\n"
     ]
    }
   ],
   "source": [
    "import spacy\n",
    "\n",
    "# Load the English NLP model\n",
    "nlp = spacy.load(\"en_core_web_sm\")\n",
    "\n",
    "# Sentence to convert\n",
    "# pre-therapy\n",
    "sentence = \"I see three people who look like they are having a picnic.\" \n",
    "\n",
    "# Process the sentence\n",
    "doc = nlp(sentence)\n",
    "\n",
    "# Create the lexicon\n",
    "lexicon = {}\n",
    "for token in doc:\n",
    "    lexicon[token.text] = {\n",
    "        \"label\": [{\"0\": token.pos_}],  # Assign POS tag as label\n",
    "        \"expected\": [{\"0\": token.pos_}],  # Expected label (same as POS for this example)\n",
    "        \"expect\": [{} if token.dep_ == \"ROOT\" else {\"0\": token.head.pos_}],  # Expected parent POS\n",
    "        \"agree\": \"\",  # Not used for this task\n",
    "    }\n",
    "\n",
    "# Add the ROOT entry\n",
    "lexicon[\"ROOT\"] = {\n",
    "    \"label\": [{\"0\": \"ROOT\"}],\n",
    "    \"expected\": [{}],\n",
    "    \"expect\": [{\"0\": \"T\"}],\n",
    "    \"agree\": \"\",\n",
    "}\n",
    "\n",
    "# Print the lexicon\n",
    "print(lexicon)"
   ]
  },
  {
   "cell_type": "markdown",
   "id": "baf27cb0-d837-46a6-9112-41d0407d60ce",
   "metadata": {},
   "source": [
    "## Pre Therapy"
   ]
  },
  {
   "cell_type": "code",
   "execution_count": 1,
   "id": "025f1dad-2efd-40ab-a795-abe68251c483",
   "metadata": {},
   "outputs": [
    {
     "name": "stdout",
     "output_type": "stream",
     "text": [
      "{'I': {'label': [{'0': 'PRON'}], 'expected': [{'0': 'PRON'}], 'expect': [{'0': 'VERB'}], 'agree': ''}, 'see': {'label': [{'0': 'VERB'}], 'expected': [{'0': 'VERB'}], 'expect': [{}], 'agree': ''}, 'a': {'label': [{'0': 'DET'}], 'expected': [{'0': 'DET'}], 'expect': [{'0': 'NOUN'}], 'agree': ''}, 'tree': {'label': [{'0': 'NOUN'}], 'expected': [{'0': 'NOUN'}], 'expect': [{}], 'agree': ''}, '.': {'label': [{'0': 'PUNCT'}], 'expected': [{'0': 'PUNCT'}], 'expect': [{'0': 'NOUN'}], 'agree': ''}, 'Another': {'label': [{'0': 'DET'}], 'expected': [{'0': 'DET'}], 'expect': [{'0': 'NOUN'}], 'agree': ''}, 'next': {'label': [{'0': 'ADV'}], 'expected': [{'0': 'ADV'}], 'expect': [{'0': 'NOUN'}], 'agree': ''}, 'to': {'label': [{'0': 'ADP'}], 'expected': [{'0': 'ADP'}], 'expect': [{'0': 'VERB'}], 'agree': ''}, 'it': {'label': [{'0': 'PRON'}], 'expected': [{'0': 'PRON'}], 'expect': [{'0': 'ADP'}], 'agree': ''}, 'girl': {'label': [{'0': 'NOUN'}], 'expected': [{'0': 'NOUN'}], 'expect': [{'0': 'VERB'}], 'agree': ''}, 'and': {'label': [{'0': 'CCONJ'}], 'expected': [{'0': 'CCONJ'}], 'expect': [{'0': 'VERB'}], 'agree': ''}, 'guy': {'label': [{'0': 'NOUN'}], 'expected': [{'0': 'NOUN'}], 'expect': [{}], 'agree': ''}, 'having': {'label': [{'0': 'VERB'}], 'expected': [{'0': 'VERB'}], 'expect': [{'0': 'VERB'}], 'agree': ''}, 'picnic': {'label': [{'0': 'NOUN'}], 'expected': [{'0': 'NOUN'}], 'expect': [{'0': 'VERB'}], 'agree': ''}, 'think': {'label': [{'0': 'VERB'}], 'expected': [{'0': 'VERB'}], 'expect': [{'0': 'VERB'}], 'agree': ''}, 'And': {'label': [{'0': 'CCONJ'}], 'expected': [{'0': 'CCONJ'}], 'expect': [{'0': 'NOUN'}], 'agree': ''}, 'another': {'label': [{'0': 'DET'}], 'expected': [{'0': 'DET'}], 'expect': [{'0': 'NOUN'}], 'agree': ''}, 'with': {'label': [{'0': 'ADP'}], 'expected': [{'0': 'ADP'}], 'expect': [{'0': 'NOUN'}], 'agree': ''}, '…': {'label': [{'0': 'PUNCT'}], 'expected': [{'0': 'PUNCT'}], 'expect': [{'0': 'VERB'}], 'agree': ''}, 'Two': {'label': [{'0': 'NUM'}], 'expected': [{'0': 'NUM'}], 'expect': [{'0': 'NOUN'}], 'agree': ''}, 'flags': {'label': [{'0': 'NOUN'}], 'expected': [{'0': 'NOUN'}], 'expect': [{'0': 'ADP'}], 'agree': ''}, 'here': {'label': [{'0': 'ADV'}], 'expected': [{'0': 'ADV'}], 'expect': [{'0': 'NOUN'}], 'agree': ''}, 'Oh': {'label': [{'0': 'INTJ'}], 'expected': [{'0': 'INTJ'}], 'expect': [{'0': 'VERB'}], 'agree': ''}, 'goes': {'label': [{'0': 'VERB'}], 'expected': [{'0': 'VERB'}], 'expect': [{}], 'agree': ''}, 'up': {'label': [{'0': 'ADP'}], 'expected': [{'0': 'ADP'}], 'expect': [{'0': 'VERB'}], 'agree': ''}, 'in': {'label': [{'0': 'ADP'}], 'expected': [{'0': 'ADP'}], 'expect': [{'0': 'VERB'}], 'agree': ''}, 'the': {'label': [{'0': 'DET'}], 'expected': [{'0': 'DET'}], 'expect': [{'0': 'NOUN'}], 'agree': ''}, 'sky': {'label': [{'0': 'NOUN'}], 'expected': [{'0': 'NOUN'}], 'expect': [{'0': 'ADP'}], 'agree': ''}, 'Kite': {'label': [{'0': 'PROPN'}], 'expected': [{'0': 'PROPN'}], 'expect': [{'0': 'VERB'}], 'agree': ''}, 'Here': {'label': [{'0': 'ADV'}], 'expected': [{'0': 'ADV'}], 'expect': [{'0': 'AUX'}], 'agree': ''}, 'is': {'label': [{'0': 'AUX'}], 'expected': [{'0': 'AUX'}], 'expect': [{}], 'agree': ''}, 'one': {'label': [{'0': 'NOUN'}], 'expected': [{'0': 'NOUN'}], 'expect': [{'0': 'AUX'}], 'agree': ''}, 'When': {'label': [{'0': 'SCONJ'}], 'expected': [{'0': 'SCONJ'}], 'expect': [{'0': 'VERB'}], 'agree': ''}, 'you': {'label': [{'0': 'PRON'}], 'expected': [{'0': 'PRON'}], 'expect': [{'0': 'VERB'}], 'agree': ''}, 'go': {'label': [{'0': 'VERB'}], 'expected': [{'0': 'VERB'}], 'expect': [{'0': 'VERB'}], 'agree': ''}, 'camping': {'label': [{'0': 'NOUN'}], 'expected': [{'0': 'NOUN'}], 'expect': [{'0': 'VERB'}], 'agree': ''}, 'sleep': {'label': [{'0': 'VERB'}], 'expected': [{'0': 'VERB'}], 'expect': [{'0': 'ADP'}], 'agree': ''}, 'A': {'label': [{'0': 'DET'}], 'expected': [{'0': 'DET'}], 'expect': [{'0': 'NOUN'}], 'agree': ''}, 'boat': {'label': [{'0': 'NOUN'}], 'expected': [{'0': 'NOUN'}], 'expect': [{}], 'agree': ''}, 'Some': {'label': [{'0': 'DET'}], 'expected': [{'0': 'DET'}], 'expect': [{'0': 'NOUN'}], 'agree': ''}, 'animals': {'label': [{'0': 'NOUN'}], 'expected': [{'0': 'NOUN'}], 'expect': [{}], 'agree': ''}, ',': {'label': [{'0': 'PUNCT'}], 'expected': [{'0': 'PUNCT'}], 'expect': [{'0': 'NOUN'}], 'agree': ''}, 'dog': {'label': [{'0': 'NOUN'}], 'expected': [{'0': 'NOUN'}], 'expect': [{'0': 'NOUN'}], 'agree': ''}, 'ROOT': {'label': [{'0': 'ROOT'}], 'expected': [{}], 'expect': [{'0': 'T'}], 'agree': ''}}\n"
     ]
    }
   ],
   "source": [
    "import spacy\n",
    "\n",
    "# Load the English NLP model\n",
    "nlp = spacy.load(\"en_core_web_sm\")\n",
    "\n",
    "# Sentence to convert\n",
    "# pre-therapy\n",
    "sentence = \"I see a tree. Another tree next to it. I see a girl and guy having a picnic I think. \\\n",
    "And another guy with a… Two flags here. Oh it goes up in the sky… Kite. Here is another one. \\\n",
    "When you go camping and you go in it to go to sleep. A boat. Some animals here, a dog.\"\n",
    "\n",
    "# Process the sentence\n",
    "doc = nlp(sentence)\n",
    "\n",
    "# Create the lexicon\n",
    "lexicon = {}\n",
    "for token in doc:\n",
    "    lexicon[token.text] = {\n",
    "        \"label\": [{\"0\": token.pos_}],  # Assign POS tag as label\n",
    "        \"expected\": [{\"0\": token.pos_}],  # Expected label (same as POS for this example)\n",
    "        \"expect\": [{} if token.dep_ == \"ROOT\" else {\"0\": token.head.pos_}],  # Expected parent POS\n",
    "        \"agree\": \"\",  # Not used for this task\n",
    "    }\n",
    "\n",
    "# Add the ROOT entry\n",
    "lexicon[\"ROOT\"] = {\n",
    "    \"label\": [{\"0\": \"ROOT\"}],\n",
    "    \"expected\": [{}],\n",
    "    \"expect\": [{\"0\": \"T\"}],\n",
    "    \"agree\": \"\",\n",
    "}\n",
    "\n",
    "# Print the lexicon\n",
    "print(lexicon)"
   ]
  },
  {
   "cell_type": "code",
   "execution_count": 2,
   "id": "a7dc4d51-6dc7-4697-b783-70e446ff8951",
   "metadata": {},
   "outputs": [
    {
     "name": "stdout",
     "output_type": "stream",
     "text": [
      "{',': {'agree': '',\n",
      "       'expect': [{'0': 'NOUN'}],\n",
      "       'expected': [{'0': 'PUNCT'}],\n",
      "       'label': [{'0': 'PUNCT'}]},\n",
      " '.': {'agree': '',\n",
      "       'expect': [{'0': 'NOUN'}],\n",
      "       'expected': [{'0': 'PUNCT'}],\n",
      "       'label': [{'0': 'PUNCT'}]},\n",
      " 'A': {'agree': '',\n",
      "       'expect': [{'0': 'NOUN'}],\n",
      "       'expected': [{'0': 'DET'}],\n",
      "       'label': [{'0': 'DET'}]},\n",
      " 'And': {'agree': '',\n",
      "         'expect': [{'0': 'NOUN'}],\n",
      "         'expected': [{'0': 'CCONJ'}],\n",
      "         'label': [{'0': 'CCONJ'}]},\n",
      " 'Another': {'agree': '',\n",
      "             'expect': [{'0': 'NOUN'}],\n",
      "             'expected': [{'0': 'DET'}],\n",
      "             'label': [{'0': 'DET'}]},\n",
      " 'Here': {'agree': '',\n",
      "          'expect': [{'0': 'AUX'}],\n",
      "          'expected': [{'0': 'ADV'}],\n",
      "          'label': [{'0': 'ADV'}]},\n",
      " 'I': {'agree': '',\n",
      "       'expect': [{'0': 'VERB'}],\n",
      "       'expected': [{'0': 'PRON'}],\n",
      "       'label': [{'0': 'PRON'}]},\n",
      " 'Kite': {'agree': '',\n",
      "          'expect': [{'0': 'VERB'}],\n",
      "          'expected': [{'0': 'PROPN'}],\n",
      "          'label': [{'0': 'PROPN'}]},\n",
      " 'Oh': {'agree': '',\n",
      "        'expect': [{'0': 'VERB'}],\n",
      "        'expected': [{'0': 'INTJ'}],\n",
      "        'label': [{'0': 'INTJ'}]},\n",
      " 'ROOT': {'agree': '',\n",
      "          'expect': [{'0': 'T'}],\n",
      "          'expected': [{}],\n",
      "          'label': [{'0': 'ROOT'}]},\n",
      " 'Some': {'agree': '',\n",
      "          'expect': [{'0': 'NOUN'}],\n",
      "          'expected': [{'0': 'DET'}],\n",
      "          'label': [{'0': 'DET'}]},\n",
      " 'Two': {'agree': '',\n",
      "         'expect': [{'0': 'NOUN'}],\n",
      "         'expected': [{'0': 'NUM'}],\n",
      "         'label': [{'0': 'NUM'}]},\n",
      " 'When': {'agree': '',\n",
      "          'expect': [{'0': 'VERB'}],\n",
      "          'expected': [{'0': 'SCONJ'}],\n",
      "          'label': [{'0': 'SCONJ'}]},\n",
      " 'a': {'agree': '',\n",
      "       'expect': [{'0': 'NOUN'}],\n",
      "       'expected': [{'0': 'DET'}],\n",
      "       'label': [{'0': 'DET'}]},\n",
      " 'and': {'agree': '',\n",
      "         'expect': [{'0': 'VERB'}],\n",
      "         'expected': [{'0': 'CCONJ'}],\n",
      "         'label': [{'0': 'CCONJ'}]},\n",
      " 'animals': {'agree': '',\n",
      "             'expect': [{}],\n",
      "             'expected': [{'0': 'NOUN'}],\n",
      "             'label': [{'0': 'NOUN'}]},\n",
      " 'another': {'agree': '',\n",
      "             'expect': [{'0': 'NOUN'}],\n",
      "             'expected': [{'0': 'DET'}],\n",
      "             'label': [{'0': 'DET'}]},\n",
      " 'boat': {'agree': '',\n",
      "          'expect': [{}],\n",
      "          'expected': [{'0': 'NOUN'}],\n",
      "          'label': [{'0': 'NOUN'}]},\n",
      " 'camping': {'agree': '',\n",
      "             'expect': [{'0': 'VERB'}],\n",
      "             'expected': [{'0': 'NOUN'}],\n",
      "             'label': [{'0': 'NOUN'}]},\n",
      " 'dog': {'agree': '',\n",
      "         'expect': [{'0': 'NOUN'}],\n",
      "         'expected': [{'0': 'NOUN'}],\n",
      "         'label': [{'0': 'NOUN'}]},\n",
      " 'flags': {'agree': '',\n",
      "           'expect': [{'0': 'ADP'}],\n",
      "           'expected': [{'0': 'NOUN'}],\n",
      "           'label': [{'0': 'NOUN'}]},\n",
      " 'girl': {'agree': '',\n",
      "          'expect': [{'0': 'VERB'}],\n",
      "          'expected': [{'0': 'NOUN'}],\n",
      "          'label': [{'0': 'NOUN'}]},\n",
      " 'go': {'agree': '',\n",
      "        'expect': [{'0': 'VERB'}],\n",
      "        'expected': [{'0': 'VERB'}],\n",
      "        'label': [{'0': 'VERB'}]},\n",
      " 'goes': {'agree': '',\n",
      "          'expect': [{}],\n",
      "          'expected': [{'0': 'VERB'}],\n",
      "          'label': [{'0': 'VERB'}]},\n",
      " 'guy': {'agree': '',\n",
      "         'expect': [{}],\n",
      "         'expected': [{'0': 'NOUN'}],\n",
      "         'label': [{'0': 'NOUN'}]},\n",
      " 'having': {'agree': '',\n",
      "            'expect': [{'0': 'VERB'}],\n",
      "            'expected': [{'0': 'VERB'}],\n",
      "            'label': [{'0': 'VERB'}]},\n",
      " 'here': {'agree': '',\n",
      "          'expect': [{'0': 'NOUN'}],\n",
      "          'expected': [{'0': 'ADV'}],\n",
      "          'label': [{'0': 'ADV'}]},\n",
      " 'in': {'agree': '',\n",
      "        'expect': [{'0': 'VERB'}],\n",
      "        'expected': [{'0': 'ADP'}],\n",
      "        'label': [{'0': 'ADP'}]},\n",
      " 'is': {'agree': '',\n",
      "        'expect': [{}],\n",
      "        'expected': [{'0': 'AUX'}],\n",
      "        'label': [{'0': 'AUX'}]},\n",
      " 'it': {'agree': '',\n",
      "        'expect': [{'0': 'ADP'}],\n",
      "        'expected': [{'0': 'PRON'}],\n",
      "        'label': [{'0': 'PRON'}]},\n",
      " 'next': {'agree': '',\n",
      "          'expect': [{'0': 'NOUN'}],\n",
      "          'expected': [{'0': 'ADV'}],\n",
      "          'label': [{'0': 'ADV'}]},\n",
      " 'one': {'agree': '',\n",
      "         'expect': [{'0': 'AUX'}],\n",
      "         'expected': [{'0': 'NOUN'}],\n",
      "         'label': [{'0': 'NOUN'}]},\n",
      " 'picnic': {'agree': '',\n",
      "            'expect': [{'0': 'VERB'}],\n",
      "            'expected': [{'0': 'NOUN'}],\n",
      "            'label': [{'0': 'NOUN'}]},\n",
      " 'see': {'agree': '',\n",
      "         'expect': [{}],\n",
      "         'expected': [{'0': 'VERB'}],\n",
      "         'label': [{'0': 'VERB'}]},\n",
      " 'sky': {'agree': '',\n",
      "         'expect': [{'0': 'ADP'}],\n",
      "         'expected': [{'0': 'NOUN'}],\n",
      "         'label': [{'0': 'NOUN'}]},\n",
      " 'sleep': {'agree': '',\n",
      "           'expect': [{'0': 'ADP'}],\n",
      "           'expected': [{'0': 'VERB'}],\n",
      "           'label': [{'0': 'VERB'}]},\n",
      " 'the': {'agree': '',\n",
      "         'expect': [{'0': 'NOUN'}],\n",
      "         'expected': [{'0': 'DET'}],\n",
      "         'label': [{'0': 'DET'}]},\n",
      " 'think': {'agree': '',\n",
      "           'expect': [{'0': 'VERB'}],\n",
      "           'expected': [{'0': 'VERB'}],\n",
      "           'label': [{'0': 'VERB'}]},\n",
      " 'to': {'agree': '',\n",
      "        'expect': [{'0': 'VERB'}],\n",
      "        'expected': [{'0': 'ADP'}],\n",
      "        'label': [{'0': 'ADP'}]},\n",
      " 'tree': {'agree': '',\n",
      "          'expect': [{}],\n",
      "          'expected': [{'0': 'NOUN'}],\n",
      "          'label': [{'0': 'NOUN'}]},\n",
      " 'up': {'agree': '',\n",
      "        'expect': [{'0': 'VERB'}],\n",
      "        'expected': [{'0': 'ADP'}],\n",
      "        'label': [{'0': 'ADP'}]},\n",
      " 'with': {'agree': '',\n",
      "          'expect': [{'0': 'NOUN'}],\n",
      "          'expected': [{'0': 'ADP'}],\n",
      "          'label': [{'0': 'ADP'}]},\n",
      " 'you': {'agree': '',\n",
      "         'expect': [{'0': 'VERB'}],\n",
      "         'expected': [{'0': 'PRON'}],\n",
      "         'label': [{'0': 'PRON'}]},\n",
      " '…': {'agree': '',\n",
      "       'expect': [{'0': 'VERB'}],\n",
      "       'expected': [{'0': 'PUNCT'}],\n",
      "       'label': [{'0': 'PUNCT'}]}}\n"
     ]
    }
   ],
   "source": [
    "# Print the lexicon\n",
    "from pprint import pprint\n",
    "pprint(lexicon)"
   ]
  },
  {
   "cell_type": "code",
   "execution_count": null,
   "id": "891d72c4-e1cd-420b-a716-e1ea0e693b90",
   "metadata": {},
   "outputs": [],
   "source": []
  },
  {
   "cell_type": "code",
   "execution_count": 3,
   "id": "981a8520-bc14-4776-9669-ab102d3d2bec",
   "metadata": {},
   "outputs": [],
   "source": [
    "# create json file from lexicon\n",
    "\n",
    "import json\n",
    "\n",
    "with open('../lexicon/WAB_pre.json', 'w') as fp:\n",
    "    json.dump(lexicon, fp)"
   ]
  },
  {
   "cell_type": "markdown",
   "id": "c8f19a6a-f359-49a2-aaf3-846e26fef41f",
   "metadata": {},
   "source": [
    "## Post Therapy"
   ]
  },
  {
   "cell_type": "code",
   "execution_count": 4,
   "id": "0c3d4539-cd33-4d41-97e5-0bc84d27a4bf",
   "metadata": {},
   "outputs": [
    {
     "name": "stdout",
     "output_type": "stream",
     "text": [
      "{'It': {'label': [{'0': 'PRON'}], 'expected': [{'0': 'PRON'}], 'expect': [{'0': 'VERB'}], 'agree': ''}, 'is': {'label': [{'0': 'AUX'}], 'expected': [{'0': 'AUX'}], 'expect': [{'0': 'VERB'}], 'agree': ''}, 'a': {'label': [{'0': 'DET'}], 'expected': [{'0': 'DET'}], 'expect': [{'0': 'NOUN'}], 'agree': ''}, 'kite': {'label': [{'0': 'NOUN'}], 'expected': [{'0': 'NOUN'}], 'expect': [{'0': 'VERB'}], 'agree': ''}, ',': {'label': [{'0': 'PUNCT'}], 'expected': [{'0': 'PUNCT'}], 'expect': [{'0': 'VERB'}], 'agree': ''}, 'um': {'label': [{'0': 'INTJ'}], 'expected': [{'0': 'INTJ'}], 'expect': [{'0': 'VERB'}], 'agree': ''}, 'I': {'label': [{'0': 'PRON'}], 'expected': [{'0': 'PRON'}], 'expect': [{'0': 'VERB'}], 'agree': ''}, 'mean': {'label': [{'0': 'VERB'}], 'expected': [{'0': 'VERB'}], 'expect': [{'0': 'VERB'}], 'agree': ''}, 'it': {'label': [{'0': 'PRON'}], 'expected': [{'0': 'PRON'}], 'expect': [{'0': 'AUX'}], 'agree': ''}, '’s': {'label': [{'0': 'VERB'}], 'expected': [{'0': 'VERB'}], 'expect': [{'0': 'VERB'}], 'agree': ''}, 'lot': {'label': [{'0': 'NOUN'}], 'expected': [{'0': 'NOUN'}], 'expect': [{'0': 'VERB'}], 'agree': ''}, 'of': {'label': [{'0': 'ADP'}], 'expected': [{'0': 'ADP'}], 'expect': [{'0': 'NOUN'}], 'agree': ''}, 'people': {'label': [{'0': 'NOUN'}], 'expected': [{'0': 'NOUN'}], 'expect': [{'0': 'ADP'}], 'agree': ''}, 'here': {'label': [{'0': 'ADV'}], 'expected': [{'0': 'ADV'}], 'expect': [{'0': 'AUX'}], 'agree': ''}, 'having': {'label': [{'0': 'VERB'}], 'expected': [{'0': 'VERB'}], 'expect': [{'0': 'NOUN'}], 'agree': ''}, 'fun': {'label': [{'0': 'NOUN'}], 'expected': [{'0': 'NOUN'}], 'expect': [{'0': 'VERB'}], 'agree': ''}, 'somebody': {'label': [{'0': 'PRON'}], 'expected': [{'0': 'PRON'}], 'expect': [{'0': 'VERB'}], 'agree': ''}, 'uh': {'label': [{'0': 'INTJ'}], 'expected': [{'0': 'INTJ'}], 'expect': [{'0': 'VERB'}], 'agree': ''}, 'has': {'label': [{'0': 'VERB'}], 'expected': [{'0': 'VERB'}], 'expect': [{}], 'agree': ''}, 'book': {'label': [{'0': 'NOUN'}], 'expected': [{'0': 'NOUN'}], 'expect': [{'0': 'VERB'}], 'agree': ''}, 'in': {'label': [{'0': 'ADP'}], 'expected': [{'0': 'ADP'}], 'expect': [{'0': 'VERB'}], 'agree': ''}, 'there': {'label': [{'0': 'ADV'}], 'expected': [{'0': 'ADV'}], 'expect': [{'0': 'VERB'}], 'agree': ''}, 'house': {'label': [{'0': 'NOUN'}], 'expected': [{'0': 'NOUN'}], 'expect': [{'0': 'AUX'}], 'agree': ''}, 'back': {'label': [{'0': 'ADV'}], 'expected': [{'0': 'ADV'}], 'expect': [{'0': 'ADV'}], 'agree': ''}, 'the': {'label': [{'0': 'DET'}], 'expected': [{'0': 'DET'}], 'expect': [{'0': 'NOUN'}], 'agree': ''}, 'kid': {'label': [{'0': 'NOUN'}], 'expected': [{'0': 'NOUN'}], 'expect': [{'0': 'VERB'}], 'agree': ''}, 'dog': {'label': [{'0': 'NOUN'}], 'expected': [{'0': 'NOUN'}], 'expect': [{'0': 'VERB'}], 'agree': ''}, 'sail': {'label': [{'0': 'NOUN'}], 'expected': [{'0': 'NOUN'}], 'expect': [{'0': 'VERB'}], 'agree': ''}, 'sailboat': {'label': [{'0': 'NOUN'}], 'expected': [{'0': 'NOUN'}], 'expect': [{'0': 'NOUN'}], 'agree': ''}, 'guess': {'label': [{'0': 'VERB'}], 'expected': [{'0': 'VERB'}], 'expect': [{'0': 'NOUN'}], 'agree': ''}, 'over': {'label': [{'0': 'ADV'}], 'expected': [{'0': 'ADV'}], 'expect': [{'0': 'ADV'}], 'agree': ''}, 'another': {'label': [{'0': 'DET'}], 'expected': [{'0': 'DET'}], 'expect': [{'0': 'NOUN'}], 'agree': ''}, 'thing': {'label': [{'0': 'NOUN'}], 'expected': [{'0': 'NOUN'}], 'expect': [{'0': 'VERB'}], 'agree': ''}, 'that': {'label': [{'0': 'PRON'}], 'expected': [{'0': 'PRON'}], 'expect': [{'0': 'VERB'}], 'agree': ''}, 'air': {'label': [{'0': 'NOUN'}], 'expected': [{'0': 'NOUN'}], 'expect': [{'0': 'ADP'}], 'agree': ''}, 'basket': {'label': [{'0': 'NOUN'}], 'expected': [{'0': 'NOUN'}], 'expect': [{'0': 'NOUN'}], 'agree': ''}, '.': {'label': [{'0': 'PUNCT'}], 'expected': [{'0': 'PUNCT'}], 'expect': [{'0': 'VERB'}], 'agree': ''}, 'The': {'label': [{'0': 'DET'}], 'expected': [{'0': 'DET'}], 'expect': [{'0': 'NOUN'}], 'agree': ''}, 'man': {'label': [{'0': 'NOUN'}], 'expected': [{'0': 'NOUN'}], 'expect': [{'0': 'VERB'}], 'agree': ''}, 'reading': {'label': [{'0': 'VERB'}], 'expected': [{'0': 'VERB'}], 'expect': [{}], 'agree': ''}, 'poem': {'label': [{'0': 'NOUN'}], 'expected': [{'0': 'NOUN'}], 'expect': [{'0': 'VERB'}], 'agree': ''}, 'he': {'label': [{'0': 'PRON'}], 'expected': [{'0': 'PRON'}], 'expect': [{'0': 'VERB'}], 'agree': ''}, 'up': {'label': [{'0': 'ADV'}], 'expected': [{'0': 'ADV'}], 'expect': [{'0': 'ADV'}], 'agree': ''}, 'Um': {'label': [{'0': 'INTJ'}], 'expected': [{'0': 'INTJ'}], 'expect': [{'0': 'VERB'}], 'agree': ''}, 'husband': {'label': [{'0': 'NOUN'}], 'expected': [{'0': 'NOUN'}], 'expect': [{'0': 'AUX'}], 'agree': ''}, 'mother': {'label': [{'0': 'NOUN'}], 'expected': [{'0': 'NOUN'}], 'expect': [{'0': 'VERB'}], 'agree': ''}, 'too': {'label': [{'0': 'ADV'}], 'expected': [{'0': 'ADV'}], 'expect': [{'0': 'VERB'}], 'agree': ''}, 'ROOT': {'label': [{'0': 'ROOT'}], 'expected': [{}], 'expect': [{'0': 'T'}], 'agree': ''}}\n"
     ]
    }
   ],
   "source": [
    "# Sentence to convert\n",
    "sentence = \"It is a kite, um I mean it’s a lot of people here having fun, somebody uh uh has a book in there, \\\n",
    "it is a house back there, the kid has a dog, sail, a sailboat I guess over there, another thing that’s in the air, \\\n",
    "a basket. The man is reading the poem. It is a dog here, he has a dog. The kite, it is a kite up there. \\\n",
    "Um there’s a husband is there, the mother’s there too. It’s a kite, somebody has a kite there.\"\n",
    "\n",
    "# Process the sentence\n",
    "doc = nlp(sentence)\n",
    "\n",
    "# Create the lexicon\n",
    "lexicon = {}\n",
    "for token in doc:\n",
    "    lexicon[token.text] = {\n",
    "        \"label\": [{\"0\": token.pos_}],  # Assign POS tag as label\n",
    "        \"expected\": [{\"0\": token.pos_}],  # Expected label (same as POS for this example)\n",
    "        \"expect\": [{} if token.dep_ == \"ROOT\" else {\"0\": token.head.pos_}],  # Expected parent POS\n",
    "        \"agree\": \"\",  # Not used for this task\n",
    "    }\n",
    "\n",
    "# Add the ROOT entry\n",
    "lexicon[\"ROOT\"] = {\n",
    "    \"label\": [{\"0\": \"ROOT\"}],\n",
    "    \"expected\": [{}],\n",
    "    \"expect\": [{\"0\": \"T\"}],\n",
    "    \"agree\": \"\",\n",
    "}\n",
    "\n",
    "# Print the lexicon\n",
    "print(lexicon)"
   ]
  },
  {
   "cell_type": "code",
   "execution_count": 5,
   "id": "8b81c9dd-ec24-4d32-85d9-fa8b06fc9c11",
   "metadata": {},
   "outputs": [],
   "source": [
    "with open('../lexicon/WAB_post.json', 'w') as fp:\n",
    "    json.dump(lexicon, fp)"
   ]
  },
  {
   "cell_type": "code",
   "execution_count": null,
   "id": "71197ca3-15f5-40f7-871e-8798e51c8f8f",
   "metadata": {},
   "outputs": [],
   "source": []
  },
  {
   "cell_type": "code",
   "execution_count": 6,
   "id": "400c52f9-1680-41d6-8791-5c57c24e96f4",
   "metadata": {},
   "outputs": [
    {
     "data": {
      "text/plain": [
       "\"\\nwith open('../lexicon/WAB_pre.json', 'r') as fp:\\n    data = json.load(fp)\\n\\nwith open('../lexicon/WAB_post.json', 'r') as fp:\\n    data = json.load(fp)\\n\""
      ]
     },
     "execution_count": 6,
     "metadata": {},
     "output_type": "execute_result"
    }
   ],
   "source": [
    "# code for loading data\n",
    "\n",
    "\"\"\"\n",
    "with open('../lexicon/WAB_pre.json', 'r') as fp:\n",
    "    data = json.load(fp)\n",
    "\n",
    "with open('../lexicon/WAB_post.json', 'r') as fp:\n",
    "    data = json.load(fp)\n",
    "\"\"\""
   ]
  },
  {
   "cell_type": "code",
   "execution_count": null,
   "id": "87e5e2db-30c0-42d0-ab37-fd4e90657874",
   "metadata": {},
   "outputs": [],
   "source": []
  }
 ],
 "metadata": {
  "kernelspec": {
   "display_name": "Python 3 (ipykernel)",
   "language": "python",
   "name": "python3"
  },
  "language_info": {
   "codemirror_mode": {
    "name": "ipython",
    "version": 3
   },
   "file_extension": ".py",
   "mimetype": "text/x-python",
   "name": "python",
   "nbconvert_exporter": "python",
   "pygments_lexer": "ipython3",
   "version": "3.11.7"
  }
 },
 "nbformat": 4,
 "nbformat_minor": 5
}
